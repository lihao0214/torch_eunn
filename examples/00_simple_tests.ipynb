{
 "cells": [
  {
   "cell_type": "markdown",
   "metadata": {},
   "source": [
    "# Simple Tests"
   ]
  },
  {
   "cell_type": "markdown",
   "metadata": {},
   "source": [
    "Some simple tests can be performed to test the performance and the behavior of the `EUNNLayer` and the `EUNN` recurrent unit."
   ]
  },
  {
   "cell_type": "markdown",
   "metadata": {},
   "source": [
    "## Imports"
   ]
  },
  {
   "cell_type": "code",
   "execution_count": 1,
   "metadata": {},
   "outputs": [],
   "source": [
    "import torch\n",
    "import numpy as np\n",
    "import sys; sys.path.append('..')\n",
    "from torch_eunn import EUNNLayer\n",
    "\n",
    "np.set_printoptions(precision=2, suppress=True)"
   ]
  },
  {
   "cell_type": "markdown",
   "metadata": {},
   "source": [
    "## Speed"
   ]
  },
  {
   "cell_type": "markdown",
   "metadata": {},
   "source": [
    "We can compare the execution speed of the `EUNNLayer`, which should act like a unitary matrix to a normal `torch.Linear` layer."
   ]
  },
  {
   "cell_type": "code",
   "execution_count": 2,
   "metadata": {},
   "outputs": [],
   "source": [
    "class SpeedTestModule(torch.nn.Module):\n",
    "    def __init__(self, type, num_hidden, capacity=None):\n",
    "        super(SpeedTestModule, self).__init__()\n",
    "        self.type = type\n",
    "        if self.type == 'EUNN':\n",
    "            self.layer = EUNNLayer(num_hidden, capacity=num_hidden if capacity is None else capacity)\n",
    "        elif self.type == 'LINEAR':\n",
    "            self.layer = torch.nn.Linear(2*num_hidden, 2*num_hidden)\n",
    "        else:\n",
    "            raise ValueError\n",
    "        self.lossfunc = torch.nn.MSELoss()\n",
    "    def forward(self, x):\n",
    "        ''' perform forward on a complex valued tensor (complex index = last) '''\n",
    "        if self.type == 'EUNN':\n",
    "            return self.layer(x)\n",
    "        else: # linear only works on a real valued tensor, therefore, stack the last two indices\n",
    "            return self.layer(x.view(x.shape[0], 2*num_hidden)).view(x.shape[0], num_hidden, 2)\n",
    "    def test(self, x):\n",
    "        ''' perform a backward and a forward pass for speed comparison '''\n",
    "        y = self(x)\n",
    "        loss = ((1-y)**2).mean()\n",
    "        loss.backward()"
   ]
  },
  {
   "cell_type": "code",
   "execution_count": 3,
   "metadata": {},
   "outputs": [
    {
     "name": "stdout",
     "output_type": "stream",
     "text": [
      "CPU times: user 16.7 ms, sys: 4.38 ms, total: 21.1 ms\n",
      "Wall time: 4.86 ms\n",
      "CPU times: user 20.7 ms, sys: 8.03 ms, total: 28.8 ms\n",
      "Wall time: 4.07 ms\n",
      "CPU times: user 1.9 s, sys: 510 ms, total: 2.41 s\n",
      "Wall time: 484 ms\n"
     ]
    }
   ],
   "source": [
    "batch_size = 5\n",
    "num_hidden = 500\n",
    "x = torch.randn(batch_size, num_hidden, 2)\n",
    "test_eunn_fc = SpeedTestModule('EUNN', num_hidden) # full capacity eunn\n",
    "test_eunn_c2 = SpeedTestModule('EUNN', num_hidden, 2) # capacity 2 eunn\n",
    "test_lin = SpeedTestModule('LINEAR', num_hidden)\n",
    "\n",
    "# test\n",
    "%time test_lin.test(x)\n",
    "%time test_eunn_c2.test(x)\n",
    "%time test_eunn_fc.test(x)"
   ]
  },
  {
   "cell_type": "markdown",
   "metadata": {},
   "source": [
    "## Unitarity"
   ]
  },
  {
   "cell_type": "markdown",
   "metadata": {},
   "source": [
    "The action of a EUNNLayer should always be unitary."
   ]
  },
  {
   "cell_type": "code",
   "execution_count": 4,
   "metadata": {},
   "outputs": [
    {
     "name": "stdout",
     "output_type": "stream",
     "text": [
      "[[1. 0. 0. ... 0. 0. 0.]\n",
      " [0. 1. 0. ... 0. 0. 0.]\n",
      " [0. 0. 1. ... 0. 0. 0.]\n",
      " ...\n",
      " [0. 0. 0. ... 1. 0. 0.]\n",
      " [0. 0. 0. ... 0. 1. 0.]\n",
      " [0. 0. 0. ... 0. 0. 1.]]\n"
     ]
    }
   ],
   "source": [
    "# dimensionality of the cell\n",
    "num_hidden = 50\n",
    "\n",
    "# create new cell\n",
    "cell = EUNNLayer(num_hidden)\n",
    "\n",
    "# get result of action of cell on identity matrix:\n",
    "x = torch.stack([torch.eye(num_hidden, num_hidden), torch.zeros(num_hidden, num_hidden)], -1)\n",
    "y = cell(x)\n",
    "y = y[...,0].detach().numpy() + 1j*y[...,1].detach().numpy()\n",
    "\n",
    "# check unitarity of result\n",
    "print(np.abs(y@y.T.conj()))"
   ]
  },
  {
   "cell_type": "markdown",
   "metadata": {},
   "source": [
    "We see that the operation of a `EUNNLayer` is clearly unitary."
   ]
  },
  {
   "cell_type": "markdown",
   "metadata": {},
   "source": [
    "## Universality"
   ]
  },
  {
   "cell_type": "markdown",
   "metadata": {},
   "source": [
    "Next we check if a full capacity cell can approximate any unitary matrix"
   ]
  },
  {
   "cell_type": "code",
   "execution_count": 5,
   "metadata": {},
   "outputs": [
    {
     "name": "stdout",
     "output_type": "stream",
     "text": [
      "[[0.95 0.   0.   0.   0.   0.   0.   0.   0.01 0.02]\n",
      " [0.   0.97 0.   0.01 0.   0.01 0.   0.   0.01 0.  ]\n",
      " [0.   0.   0.95 0.02 0.   0.01 0.   0.   0.01 0.01]\n",
      " [0.01 0.01 0.02 0.97 0.   0.   0.   0.   0.   0.  ]\n",
      " [0.   0.   0.   0.   0.99 0.   0.   0.   0.   0.01]\n",
      " [0.   0.   0.01 0.   0.   0.97 0.   0.   0.01 0.01]\n",
      " [0.01 0.   0.   0.   0.   0.   0.98 0.   0.   0.01]\n",
      " [0.   0.   0.   0.   0.   0.   0.   0.98 0.   0.  ]\n",
      " [0.01 0.01 0.01 0.01 0.   0.   0.   0.   0.95 0.  ]\n",
      " [0.02 0.   0.01 0.   0.   0.01 0.01 0.   0.   0.94]]\n"
     ]
    }
   ],
   "source": [
    "# dimensionality of the cell\n",
    "num_hidden = 10\n",
    "\n",
    "# create new cell\n",
    "cell = EUNNLayer(num_hidden, num_hidden)\n",
    "\n",
    "# create unitary matrix to approximate\n",
    "U, _, _ = np.linalg.svd(np.random.randn(num_hidden,num_hidden) + 1j*np.random.randn(num_hidden,num_hidden))\n",
    "U_torch = torch.stack([\n",
    "    torch.tensor(np.real(U.T.conj()), dtype=torch.float32),\n",
    "    torch.tensor(np.imag(U.T.conj()), dtype=torch.float32),\n",
    "], -1)\n",
    "\n",
    "# create the target\n",
    "# the cell needs to be trained such that action of the cell on U.T.conj() yields the identity\n",
    "I_torch = torch.stack([\n",
    "    torch.eye(num_hidden),   \n",
    "    torch.zeros((num_hidden,num_hidden)),\n",
    "], -1)\n",
    "\n",
    "# criterion & optimizer\n",
    "lossfunc = torch.nn.MSELoss()\n",
    "optimizer = torch.optim.Adam(cell.parameters(), lr=0.0020)\n",
    "\n",
    "# training\n",
    "for _ in range(10000):\n",
    "    optimizer.zero_grad()\n",
    "    I_approx = cell(U_torch)\n",
    "    loss = lossfunc(I_approx, I_torch)\n",
    "    loss.backward()\n",
    "    optimizer.step()\n",
    "\n",
    "result = I_approx[...,0].detach().numpy() + 1j*I_approx[...,1].detach().numpy()\n",
    "\n",
    "print(abs(result)**2)"
   ]
  },
  {
   "cell_type": "markdown",
   "metadata": {},
   "source": [
    "We see that we can approximate the matrix U."
   ]
  }
 ],
 "metadata": {
  "kernelspec": {
   "display_name": "base [3.7]",
   "language": "python",
   "name": "python3"
  },
  "language_info": {
   "codemirror_mode": {
    "name": "ipython",
    "version": 3
   },
   "file_extension": ".py",
   "mimetype": "text/x-python",
   "name": "python",
   "nbconvert_exporter": "python",
   "pygments_lexer": "ipython3",
   "version": "3.7.0"
  }
 },
 "nbformat": 4,
 "nbformat_minor": 2
}
